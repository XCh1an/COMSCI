{
  "nbformat": 4,
  "nbformat_minor": 0,
  "metadata": {
    "colab": {
      "provenance": []
    },
    "kernelspec": {
      "name": "python3",
      "display_name": "Python 3"
    },
    "language_info": {
      "name": "python"
    }
  },
  "cells": [
    {
      "cell_type": "markdown",
      "source": [
        "\n",
        "### **Logical Operators**\n",
        "\n",
        "Logical operators are used to combine conditional statements.\n",
        "\n",
        "**1. `and` Operator:**\n",
        "- Returns `True` if both statements are true.\n",
        "  \n",
        "  **Example:**\n",
        "  ```python\n",
        "  age = 25\n",
        "  if age > 18 and age < 30:\n",
        "      print(\"You are a young adult.\")\n",
        "  ```\n",
        "\n",
        "**2. `or` Operator:**\n",
        "- Returns `True` if at least one of the statements is true.\n",
        "  \n",
        "  **Example:**\n",
        "  ```python\n",
        "  day = \"Sunday\"\n",
        "  if day == \"Saturday\" or day == \"Sunday\":\n",
        "      print(\"It's the weekend!\")\n",
        "  ```\n",
        "\n",
        "**3. `not` Operator:**\n",
        "- Used to reverse the result; returns `False` if the result is true and vice versa.\n",
        "  \n",
        "  **Example:**\n",
        "  ```python\n",
        "  is_raining = False\n",
        "  if not is_raining:\n",
        "      print(\"It's a sunny day!\")\n",
        "  ```\n",
        "\n",
        "---\n",
        "\n",
        "### **Nested Conditional Statements**\n",
        "\n",
        "Sometimes, you may want to evaluate a condition inside another condition. This is referred to as nesting.\n",
        "\n",
        "**Example:**\n",
        "```python\n",
        "age = 25\n",
        "gender = \"Female\"\n",
        "if age < 30:\n",
        "    if gender == \"Female\":\n",
        "        print(\"Young female.\")\n",
        "    else:\n",
        "        print(\"Young male.\")\n",
        "else:\n",
        "    if gender == \"Female\":\n",
        "        print(\"Mature female.\")\n",
        "    else:\n",
        "        print(\"Mature male.\")\n",
        "```\n",
        "\n",
        "In the example above, the outer `if` checks the age, and the inner `if` checks the gender, leading to more precise classifications.\n",
        "\n"
      ],
      "metadata": {
        "id": "_J_0H623DMoG"
      }
    },
    {
      "cell_type": "code",
      "source": [
        "#Test the examples above here"
      ],
      "metadata": {
        "id": "1tzurxbLDYuS"
      },
      "execution_count": null,
      "outputs": []
    },
    {
      "cell_type": "markdown",
      "source": [
        "### **Practice Exercises:**\n",
        "\n",
        "1. **Temperature Alert:**\n",
        "   - Ask the user for the current temperature and if it's raining (yes/no).\n",
        "   - If it's above 30°C and not raining, suggest wearing sunscreen. If it's below 30°C and raining, suggest taking an umbrella.\n",
        "\n",
        "\n",
        "\n"
      ],
      "metadata": {
        "id": "_2pb9LXWDcXE"
      }
    },
    {
      "cell_type": "code",
      "source": [
        "def temperature_alert():\n",
        "    current_temperature = float(input(\"Please enter the current temperature in °C: \"))\n",
        "    is_raining = input(\"Is it raining? (yes/no): \").lower()\n",
        "\n",
        "    if current_temperature > 30 and is_raining == \"no\":\n",
        "        print(\"It's hot outside! You might want to wear sunscreen.\")\n",
        "    elif current_temperature < 30 and is_raining == \"yes\":\n",
        "        print(\"It's raining. Don't forget to take an umbrella!\")\n",
        "    else:\n",
        "        print(\"what the heck.\")\n",
        "\n",
        "temperature_alert()"
      ],
      "metadata": {
        "id": "AyCFWr2cDiuz"
      },
      "execution_count": null,
      "outputs": []
    },
    {
      "cell_type": "markdown",
      "source": [
        "2. **Movie Night:**\n",
        "   - Ask the user if they like action movies and if they like romantic movies.\n",
        "   - Recommend a movie based on their preferences:\n",
        "     - Action and romance: \"Mr. & Mrs. Smith\",\n",
        "     - Only action: \"Die Hard\",\n",
        "     - Only romance: \"Pride and Prejudice\",\n",
        "     - Neither: \"Try watching a documentary!\"\n",
        "\n"
      ],
      "metadata": {
        "id": "hne5hxgMDj0i"
      }
    },
    {
      "cell_type": "code",
      "source": [
        "def movie_recommendation():\n",
        "    likes_action = input(\"Do you like action movies? (yes/no): \").lower()\n",
        "    likes_romance = input(\"Do you like romantic movies? (yes/no): \").lower()\n",
        "\n",
        "    if likes_action == \"yes\" and likes_romance == \"yes\":\n",
        "        print(\"I recommend watching 'Mr. & Mrs. Smith'. It's an action-packed romantic movie!\")\n",
        "    elif likes_action == \"yes\" and likes_romance == \"no\":\n",
        "        print(\"I recommend watching 'Die Hard'. It's a classic action movie!\")\n",
        "    elif likes_action == \"no\" and likes_romance == \"yes\":\n",
        "        print(\"I recommend watching 'Pride and Prejudice'. It's a wonderful romantic movie!\")\n",
        "    else:\n",
        "        print(\"I recommend trying a documentary for a change!\")\n",
        "\n",
        "movie_recommendation()"
      ],
      "metadata": {
        "id": "m13PVPajDlwd"
      },
      "execution_count": null,
      "outputs": []
    },
    {
      "cell_type": "markdown",
      "source": [
        "3. **Eligibility for a Credit Card:**\n",
        "   - Ask the user for their age and monthly salary.\n",
        "   - If they are over 18 and earn more than $1,000 per month, inform them they are eligible for a credit card.\n"
      ],
      "metadata": {
        "id": "2DUNWDlsDmzl"
      }
    },
    {
      "cell_type": "code",
      "source": [
        "def check_credit_card_eligibility():\n",
        "    age = int(input(\"Please enter your age: \"))\n",
        "    monthly_salary = float(input(\"Please enter your monthly salary ($): \"))\n",
        "\n",
        "    if age > 18 and monthly_salary > 1000:\n",
        "        print(\"You are eligible for a credit card.\")\n",
        "    else:\n",
        "        print(\"You do not meet the eligibility criteria for a credit card.\")\n",
        "\n",
        "check_credit_card_eligibility()\n"
      ],
      "metadata": {
        "id": "KiuF2ByZDoZG"
      },
      "execution_count": null,
      "outputs": []
    },
    {
      "cell_type": "markdown",
      "source": [
        "\n",
        "4. **Nested Age Bracket Classifier:**\n",
        "   - Ask the user for their age and gender.\n",
        "   - Classify them into 'Young/Mature Male/Female' using nested conditional statements.\n"
      ],
      "metadata": {
        "id": "0p0RmJMKDpdG"
      }
    },
    {
      "cell_type": "code",
      "source": [
        "def classify_age_gender():\n",
        "    age = int(input(\"Please enter your age: \"))\n",
        "    gender = input(\"Please enter your gender (male/female): \").lower()\n",
        "\n",
        "    if age < 18:\n",
        "        if gender == \"male\":\n",
        "            print(\"You are a young male.\")\n",
        "        else:\n",
        "            print(\"You are a young female.\")\n",
        "    elif age < 40:\n",
        "        if gender == \"male\":\n",
        "            print(\"You are a mature male.\")\n",
        "        else:\n",
        "            print(\"You are a mature female.\")\n",
        "    else:\n",
        "        if gender == \"male\":\n",
        "            print(\"You are an older male.\")\n",
        "        else:\n",
        "            print(\"You are an older female.\")\n",
        "\n",
        "classify_age_gender()\n"
      ],
      "metadata": {
        "id": "QSi5-aToDrnK"
      },
      "execution_count": null,
      "outputs": []
    },
    {
      "cell_type": "markdown",
      "source": [
        "\n",
        "5. **Weekend Activity Planner:**\n",
        "   - Ask the user if it's a weekend and if the weather is good.\n",
        "   - Provide activity suggestions based on their answers:\n",
        "     - Weekend and good weather: \"Go for a picnic!\",\n",
        "     - Weekend and bad weather: \"Maybe watch a movie at home?\",\n",
        "     - Weekday and good weather: \"Don't forget your sunglasses on your way to work!\",\n",
        "     - Weekday and bad weather: \"Take an umbrella today.\""
      ],
      "metadata": {
        "id": "tyG7h84BDsrX"
      }
    },
    {
      "cell_type": "code",
      "source": [
        "def plan_weekend_activity():\n",
        "    is_weekend = input(\"Is it a weekend? (yes/no): \").lower()\n",
        "    is_good_weather = input(\"Is the weather good? (yes/no): \").lower()\n",
        "\n",
        "    if is_weekend == \"yes\":\n",
        "        if is_good_weather == \"yes\":\n",
        "            print(\"Go for a picnic!\")\n",
        "        else:\n",
        "            print(\"Maybe watch a movie at home?\")\n",
        "    else:\n",
        "        if is_good_weather == \"yes\":\n",
        "            print(\"Don't forget your sunglasses on your way to work!\")\n",
        "        else:\n",
        "            print(\"Take an umbrella today.\")\n",
        "\n",
        "plan_weekend_activity()"
      ],
      "metadata": {
        "id": "7q-ze3tCDtgQ"
      },
      "execution_count": null,
      "outputs": []
    }
  ]
}