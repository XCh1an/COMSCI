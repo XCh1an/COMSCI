{
  "nbformat": 4,
  "nbformat_minor": 0,
  "metadata": {
    "colab": {
      "provenance": []
    },
    "kernelspec": {
      "name": "python3",
      "display_name": "Python 3"
    },
    "language_info": {
      "name": "python"
    }
  },
  "cells": [
    {
      "cell_type": "markdown",
      "source": [
        "\n",
        "### **Introduction to Loops**\n",
        "\n",
        "In programming, loops offer a way to perform a set of instructions repeatedly. They are fundamental for tasks that require the same action to be taken on a series of items, or for actions to be repeated until a certain condition is met.\n",
        "\n",
        "---\n",
        "\n",
        "### **Understanding the `while` Loop and its Applications**\n",
        "\n",
        "The `while` loop executes a block of code as long as a specified condition remains `True`.\n",
        "\n",
        "**Basic Syntax:**\n",
        "```python\n",
        "while condition:\n",
        "    # body of the loop\n",
        "```\n",
        "\n",
        "**Example:**\n",
        "```python\n",
        "count = 0\n",
        "while count < 5:\n",
        "    print(count)\n",
        "    count += 1\n",
        "```\n",
        "\n",
        "In the above example, the loop will print numbers from 0 to 4. The loop continues as long as `count` is less than 5.\n",
        "\n",
        "**Applications:**\n",
        "1. **Repeating an action** until a user decides to quit.\n",
        "2. **Waiting for an external condition** to change (e.g., waiting for user input).\n",
        "3. **Polling:** Checking repeatedly if a resource is available or a task is completed.\n",
        "\n",
        "---\n",
        "\n",
        "### **Creating Counters and Accumulators**\n",
        "\n",
        "**1. Counters:**\n",
        "A counter is a variable that is incremented or decremented with each iteration of a loop.\n",
        "\n",
        "**Example:**\n",
        "```python\n",
        "# Counting how many times a loop runs\n",
        "count = 0\n",
        "while count < 10:\n",
        "    print(\"Loop iteration:\", count)\n",
        "    count += 1\n",
        "```\n",
        "\n",
        "**2. Accumulators:**\n",
        "An accumulator is a variable that collects or accumulates a value over time within a loop.\n",
        "\n",
        "**Example:**\n",
        "```python\n",
        "# Summing numbers from 1 to 5\n",
        "total = 0\n",
        "number = 1\n",
        "while number <= 5:\n",
        "    total += number\n",
        "    number += 1\n",
        "print(\"Total sum:\", total)\n",
        "```\n",
        "\n",
        "In the above example, `total` is an accumulator that collects the sum of numbers from 1 to 5.\n",
        "\n",
        "\n"
      ],
      "metadata": {
        "id": "a2Db_gg2H9l2"
      }
    },
    {
      "cell_type": "code",
      "source": [
        "#Play around with the examples in this cell"
      ],
      "metadata": {
        "id": "ixvEg1OJI0vm"
      },
      "execution_count": null,
      "outputs": []
    },
    {
      "cell_type": "markdown",
      "source": [
        "---\n",
        "\n",
        "### **Practice Exercises:**\n",
        "\n",
        "1. **Positive Number Collector:** Ask the user to keep entering numbers. Stop when they enter a negative number and display the sum of all positive numbers entered.\n"
      ],
      "metadata": {
        "id": "icvXf-Q8I4tF"
      }
    },
    {
      "cell_type": "code",
      "source": [
        "def nice():\n",
        "    a = 0\n",
        "    while True:\n",
        "        n = int(input(\"Enter a number: \"))\n",
        "        if n >= 0:\n",
        "            a += n\n",
        "        else:\n",
        "            break\n",
        "\n",
        "    print(a)\n",
        "\n",
        "nice()\n"
      ],
      "metadata": {
        "id": "HWqs6QFuI6Pd"
      },
      "execution_count": null,
      "outputs": []
    },
    {
      "cell_type": "markdown",
      "source": [
        "2. **Guessing Game:** Think of a number between 1 and 10. Allow the user to guess until they get the right number.\n"
      ],
      "metadata": {
        "id": "-_u-1EvmI8Dj"
      }
    },
    {
      "cell_type": "code",
      "source": [
        "import random\n",
        "\n",
        "def guessing_game():\n",
        "    target_number = random.randint(1, 10)\n",
        "\n",
        "    while True:\n",
        "        user_guess = int(input(\"Guess a number between 1 and 10: \"))\n",
        "\n",
        "        if user_guess == target_number:\n",
        "            print(\"Niceeeeee! You guessed the right number:\", target_number)\n",
        "            break\n",
        "        elif user_guess < target_number:\n",
        "            print(\"Try a higher number.\")\n",
        "        else:\n",
        "            print(\"Try a lower number.\")\n",
        "\n",
        "guessing_game()\n"
      ],
      "metadata": {
        "id": "pmd2ui8UI9nI"
      },
      "execution_count": null,
      "outputs": []
    },
    {
      "cell_type": "markdown",
      "source": [
        "3. **Exponential Growth:** Given a number, keep multiplying it by 2 until it exceeds 1000. Count how many multiplications were needed.\n"
      ],
      "metadata": {
        "id": "sMHpPBRQI_Kh"
      }
    },
    {
      "cell_type": "code",
      "source": [
        "def exponential_growth():\n",
        "    number = float(input(\"Enter a number: \"))\n",
        "    target = 1000\n",
        "    count = 0\n",
        "\n",
        "    while number < target:\n",
        "        number *= 2\n",
        "        count += 1\n",
        "\n",
        "    print(f\"The number exceeded {target} after {count} multiplications.\")\n",
        "\n",
        "exponential_growth()\n"
      ],
      "metadata": {
        "id": "5ueHSVhEJA5S"
      },
      "execution_count": null,
      "outputs": []
    },
    {
      "cell_type": "markdown",
      "source": [
        "4. **Password Retry:** Allow a user 3 attempts to enter a correct password.\n"
      ],
      "metadata": {
        "id": "R37qmrpgJCZY"
      }
    },
    {
      "cell_type": "code",
      "source": [
        "def password_retry():\n",
        "    correct_password = \"iamxch1an\"\n",
        "    attempts = 3\n",
        "\n",
        "    while attempts > 0:\n",
        "        user_password = input(\"Enter the password: \")\n",
        "\n",
        "        if user_password == correct_password:\n",
        "            print(\"Password accepted. Access granted.\")\n",
        "            break\n",
        "        else:\n",
        "            attempts -= 1\n",
        "            print(f\"Invalid password. You have {attempts} attempts left.\")\n",
        "\n",
        "    if attempts == 0:\n",
        "        print(\"Access denied. You've used all your attempts.\")\n",
        "\n",
        "password_retry()\n"
      ],
      "metadata": {
        "id": "-mVz_khOJDt3"
      },
      "execution_count": null,
      "outputs": []
    },
    {
      "cell_type": "markdown",
      "source": [
        "5. **Interest Calculator:** If you invest $100 at a 5% annual interest rate, how many years will it take for the money to double using compound interest?\n"
      ],
      "metadata": {
        "id": "xE9VCCIPJEtP"
      }
    },
    {
      "cell_type": "code",
      "source": [
        "def calculate_years_to_double(principal, interest_rate):\n",
        "    target_amount = principal * 2\n",
        "    years = 0\n",
        "\n",
        "    while principal < target_amount:\n",
        "        principal += principal * (interest_rate / 100)\n",
        "        years += 1\n",
        "\n",
        "    return years\n",
        "\n",
        "principal = 100\n",
        "interest_rate = 5\n",
        "\n",
        "years_to_double = calculate_years_to_double(principal, interest_rate)\n",
        "print(years_to_double)\n"
      ],
      "metadata": {
        "id": "_muBoRqzJGB3"
      },
      "execution_count": null,
      "outputs": []
    },
    {
      "cell_type": "markdown",
      "source": [
        "6. **Number of Divisors:** For a given number, find out how many divisors it has.\n"
      ],
      "metadata": {
        "id": "UGn7LFPyJHUi"
      }
    },
    {
      "cell_type": "code",
      "source": [
        "def count_divisors(number):\n",
        "    divisors = 0\n",
        "    for i in range(1, number + 1):\n",
        "        if number % i == 0:\n",
        "            divisors += 1\n",
        "    return divisors\n",
        "\n",
        "number = int(input(\"Enter a number: \"))\n",
        "divisor_count = count_divisors(number)\n",
        "print(f\"The number {number} has {divisor_count} divisors.\")\n"
      ],
      "metadata": {
        "id": "50u_gFOuJJBB"
      },
      "execution_count": null,
      "outputs": []
    },
    {
      "cell_type": "markdown",
      "source": [
        "7. **User Input Collector:** Keep asking the user for input until they type \"exit\" or \"quit\".\n"
      ],
      "metadata": {
        "id": "LAoVS7NyJLDl"
      }
    },
    {
      "cell_type": "code",
      "source": [
        "def user_input_collector():\n",
        "    while True:\n",
        "        user_input = input(\"Enter something (type 'exit' or 'quit' to stop): \")\n",
        "        if user_input.lower() == \"exit\" or user_input.lower() == \"quit\":\n",
        "            print(\"Exiting input collector.\")\n",
        "            break\n",
        "        else:\n",
        "            print(\"You entered:\", user_input)\n",
        "\n",
        "user_input_collector()"
      ],
      "metadata": {
        "id": "51EYMHtzJMVE"
      },
      "execution_count": null,
      "outputs": []
    },
    {
      "cell_type": "markdown",
      "source": [
        "8. **Factorial Calculator:** Calculate the factorial of a number using a loop.\n"
      ],
      "metadata": {
        "id": "-Bmx7J87JOFD"
      }
    },
    {
      "cell_type": "code",
      "source": [
        "def factorial(n):\n",
        "    result = 1\n",
        "    for i in range(1, n + 1):\n",
        "        result *= i\n",
        "    return result\n",
        "\n",
        "number = int(input(\"Enter a number: \"))\n",
        "factorial_result = factorial(number)\n",
        "print(f\"The factorial of {number} is {factorial_result}.\")\n"
      ],
      "metadata": {
        "id": "i_Ai-9CpJPf3"
      },
      "execution_count": null,
      "outputs": []
    },
    {
      "cell_type": "markdown",
      "source": [
        "9. **Fibonacci Sequence:** Generate the first N numbers of the Fibonacci sequence.\n"
      ],
      "metadata": {
        "id": "DC6RN9NGJQpX"
      }
    },
    {
      "cell_type": "code",
      "source": [
        "def gen_fib_sequence(n):\n",
        "    fib_seq = [0, 1]\n",
        "\n",
        "    while len(fib_seq) < n:\n",
        "        next_num = fib_seq[-1] + fib_seq[-2]\n",
        "        fib_seq.append(next_num)\n",
        "\n",
        "    return fib_seq\n",
        "\n",
        "N = int(input(\"Enter the value of N: \"))\n",
        "fib_nums = gen_fib_sequence(N)\n",
        "print(f\"The first {N} numbers of the Fibonacci sequence are: {fib_nums}\")\n"
      ],
      "metadata": {
        "id": "6RV7fRW9JR-b"
      },
      "execution_count": null,
      "outputs": []
    },
    {
      "cell_type": "markdown",
      "source": [
        "10. **Decreasing Counter:** Start from 100 and count down by sevens. Stop if the number goes negative."
      ],
      "metadata": {
        "id": "dnX8zfHcJTXi"
      }
    },
    {
      "cell_type": "code",
      "source": [
        "number = 100\n",
        "\n",
        "while number >= 0:\n",
        "    print(number)\n",
        "    number -= 7"
      ],
      "metadata": {
        "id": "2bkZxvmIJUHN"
      },
      "execution_count": null,
      "outputs": []
    },
    {
      "cell_type": "code",
      "source": [],
      "metadata": {
        "id": "OgKIvUYqZO2S"
      },
      "execution_count": null,
      "outputs": []
    }
  ]
}